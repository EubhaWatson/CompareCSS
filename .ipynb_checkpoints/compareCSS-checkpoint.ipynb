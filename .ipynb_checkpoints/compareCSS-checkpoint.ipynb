{
 "cells": [
  {
   "cell_type": "code",
   "execution_count": 1,
   "metadata": {},
   "outputs": [
    {
     "name": "stdout",
     "output_type": "stream",
     "text": [
      "Enter the path for the directory containing all of the projects: /Users/watson/Desktop/ass3\n",
      "Enter the file path for a text document where the output will be written, including the file name: /Users/watson/Desktop/Output.txt\n"
     ]
    }
   ],
   "source": [
    "import os\n",
    "\n",
    "def compare_css_files():\n",
    "    # Prompt the user for the directory and output file paths\n",
    "    directory = input(\"Enter the path for the directory containing all of the projects: \")\n",
    "    output_file = input(\"Enter the file path for a text document where the output will be written, including the file name: \")\n",
    "\n",
    "    # Check if the directory path exists\n",
    "    if not os.path.exists(directory):\n",
    "        print(\"Error: The directory path does not exist.\")\n",
    "        return\n",
    "\n",
    "    # Create the output file if it does not exist\n",
    "    if not os.path.exists(output_file):\n",
    "        open(output_file, \"w\").close()\n",
    "\n",
    "    # Get a list of all the CSS files in the given directory, including subdirectories\n",
    "    files = []\n",
    "    for root, dirs, filenames in os.walk(directory):\n",
    "        for file in filenames:\n",
    "            if file.endswith(\".css\") and file != \"reset.css\" and file != \"modern-reset.css\":\n",
    "                files.append(os.path.join(root, file))\n",
    "\n",
    "    # Create an empty dictionary to store the file contents\n",
    "    file_contents = {}\n",
    "\n",
    "    # Read the contents of each CSS file and store it in the dictionary\n",
    "    for file in files:\n",
    "        with open(file, \"r\") as f:\n",
    "            file_contents[file] = f.read()\n",
    "\n",
    "    # Compare the contents of each CSS file and print the results to the output file\n",
    "    with open(output_file, \"w\") as f:\n",
    "        # Sort the file pairs by the percentage similarity\n",
    "        file_pairs = []\n",
    "        for file1 in files:\n",
    "            for file2 in files:\n",
    "                if file1 != file2:\n",
    "                    # Compute the percentage of characters that are the same\n",
    "                    # between the two files\n",
    "                    num_same = sum(1 for a, b in zip(file_contents[file1], file_contents[file2]) if a == b)\n",
    "                    percent_same = 100 * num_same / max(len(file_contents[file1]), len(file_contents[file2]))\n",
    "\n",
    "                    f.write(\"{} and {} are {:.2f}% similar\\n\".format(file1, file2, percent_same))\n",
    "\n",
    "# Test the function\n",
    "compare_css_files()"
   ]
  },
  {
   "cell_type": "code",
   "execution_count": null,
   "metadata": {},
   "outputs": [],
   "source": []
  }
 ],
 "metadata": {
  "kernelspec": {
   "display_name": "Python 3",
   "language": "python",
   "name": "python3"
  },
  "language_info": {
   "codemirror_mode": {
    "name": "ipython",
    "version": 3
   },
   "file_extension": ".py",
   "mimetype": "text/x-python",
   "name": "python",
   "nbconvert_exporter": "python",
   "pygments_lexer": "ipython3",
   "version": "3.8.3"
  }
 },
 "nbformat": 4,
 "nbformat_minor": 4
}
